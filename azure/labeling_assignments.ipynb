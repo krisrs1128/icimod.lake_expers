{
 "cells": [
  {
   "cell_type": "code",
   "execution_count": null,
   "id": "ece1b3a1",
   "metadata": {},
   "outputs": [],
   "source": [
    "import pandas as pd\n",
    "import pathlib\n",
    "import random\n",
    "import shutil\n",
    "random.seed(123)"
   ]
  },
  {
   "cell_type": "code",
   "execution_count": null,
   "id": "17af4257",
   "metadata": {},
   "outputs": [],
   "source": [
    "sentinel_dir = pathlib.Path(\"/datadrive/snake/lakes/sentinel/images/\")\n",
    "sentinel_ids = pd.DataFrame([s.name.split(\"_\") for s in list(sentinel_dir.glob(\"*\"))], columns=[\"GL_ID\", \"date\"])\n",
    "sentinel_ids = sentinel_ids\\\n",
    "  .groupby(by=[\"GL_ID\"])\\\n",
    "  .apply(lambda x: x[x[\"date\"] == x[\"date\"].max()])\n",
    "sentinel_ids = sentinel_ids.reset_index(drop=True)"
   ]
  },
  {
   "cell_type": "code",
   "execution_count": null,
   "id": "a507c611",
   "metadata": {},
   "outputs": [],
   "source": [
    "assignment = 50 * [\"Kris\", \"Anthony\", \"Sarah\"] + [\"\"] * (788 - 150)\n",
    "random.shuffle(assignment)\n",
    "sentinel_ids[\"assignment\"] = assignment\n",
    "sentinel_ids[\"file\"] = sentinel_ids[\"GL_ID\"] + \"_\" + sentinel_ids[\"date\"]\n",
    "sentinel_ids = sentinel_ids.sort_values([\"assignment\", \"file\"])"
   ]
  },
  {
   "cell_type": "code",
   "execution_count": null,
   "id": "2d4df705",
   "metadata": {},
   "outputs": [],
   "source": [
    "sentinel_ids.to_csv(\"~/sentinel_labeling.csv\", index=False)"
   ]
  },
  {
   "cell_type": "code",
   "execution_count": null,
   "id": "d59f9f1e",
   "metadata": {},
   "outputs": [],
   "source": [
    "for assignee in [\"Sarah\", \"Kris\", \"Anthony\"]:\n",
    "    cur_files = [sentinel_dir / s for s in sentinel_ids.loc[sentinel_ids[\"assignment\"] == assignee, \"file\"]]\n",
    "    for f in cur_files:\n",
    "        shutil.copy(f, pathlib.Path(\"/datadrive/snake/lakes/labeling/\" + assignee))"
   ]
  },
  {
   "cell_type": "code",
   "execution_count": null,
   "id": "d630669d",
   "metadata": {},
   "outputs": [],
   "source": [
    "bing_dir = pathlib.Path(\"/datadrive/glaciers/bing_glaciers/processed/bing/images/\")\n",
    "bing_ids = pd.DataFrame([pathlib.Path(s).name for s in list(bing_dir.glob(\"*.tif\"))], columns=[\"file\"])\n",
    "\n",
    "assignment = 50 * [\"Kris\", \"Anthony\", \"Sarah\"] + [\"\"] * (len(bing_ids) - 150)\n",
    "random.shuffle(assignment)\n",
    "bing_ids[\"assignment\"] = assignment\n",
    "bing_ids = bing_ids.sort_values([\"assignment\", \"file\"])\n",
    "bing_ids = bing_ids[[\"file\", \"assignment\"]]"
   ]
  },
  {
   "cell_type": "code",
   "execution_count": null,
   "id": "c292a4e8",
   "metadata": {},
   "outputs": [],
   "source": [
    "bing_ids.to_csv(\"~/bing_labeling.csv\", index=False)"
   ]
  },
  {
   "cell_type": "code",
   "execution_count": null,
   "id": "c23ea128",
   "metadata": {},
   "outputs": [],
   "source": [
    "for assignee in [\"Sarah\", \"Kris\", \"Anthony\"]:\n",
    "    cur_files = [bing_dir / s for s in bing_ids.loc[bing_ids[\"assignment\"] == assignee, \"file\"]]\n",
    "    for f in cur_files:\n",
    "        shutil.copy(f, pathlib.Path(\"/datadrive/glaciers/bing_glaciers/labeling/\" + assignee))"
   ]
  },
  {
   "cell_type": "code",
   "execution_count": null,
   "id": "71e1fe47",
   "metadata": {},
   "outputs": [],
   "source": [
    "test_ids = [s.name for s in list(pathlib.Path(\"/datadrive/glaciers/bing_glaciers/processed/bing/splits/test/images\").glob(\"*.tif\"))]\n",
    "label_subset = bing_ids.loc[bing_ids[\"assignment\"] != \"\", \"file\"]\n",
    "\n",
    "len(list(set(test_ids) & set(label_subset)))"
   ]
  },
  {
   "cell_type": "code",
   "execution_count": null,
   "id": "4b6fff6f",
   "metadata": {},
   "outputs": [],
   "source": []
  }
 ],
 "metadata": {
  "kernelspec": {
   "display_name": "Python [conda env:lakes]",
   "language": "python",
   "name": "conda-env-lakes-py"
  },
  "language_info": {
   "codemirror_mode": {
    "name": "ipython",
    "version": 3
   },
   "file_extension": ".py",
   "mimetype": "text/x-python",
   "name": "python",
   "nbconvert_exporter": "python",
   "pygments_lexer": "ipython3",
   "version": "3.8.10"
  }
 },
 "nbformat": 4,
 "nbformat_minor": 5
}
